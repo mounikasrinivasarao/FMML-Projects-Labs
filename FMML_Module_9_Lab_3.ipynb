{
  "nbformat": 4,
  "nbformat_minor": 0,
  "metadata": {
    "colab": {
      "provenance": [],
      "include_colab_link": true
    },
    "kernelspec": {
      "name": "python3",
      "display_name": "Python 3"
    },
    "language_info": {
      "name": "python"
    }
  },
  "cells": [
    {
      "cell_type": "markdown",
      "metadata": {
        "id": "view-in-github",
        "colab_type": "text"
      },
      "source": [
        "<a href=\"https://colab.research.google.com/github/mounikasrinivasarao/FMML-Projects-Labs/blob/main/FMML_Module_9_Lab_3.ipynb\" target=\"_parent\"><img src=\"https://colab.research.google.com/assets/colab-badge.svg\" alt=\"Open In Colab\"/></a>"
      ]
    },
    {
      "cell_type": "markdown",
      "source": [
        "# Module 9: Convolutional Neural Networks\n",
        "## **Lab 3**\n",
        "### Module coordinator: Kushagra Agarwal"
      ],
      "metadata": {
        "id": "kCpbL40ggQf1"
      }
    },
    {
      "cell_type": "markdown",
      "source": [
        "## 1. Understanding Convolutions"
      ],
      "metadata": {
        "id": "0hAW8ptqVeyP"
      }
    },
    {
      "cell_type": "markdown",
      "source": [
        "<img src=\"https://miro.medium.com/max/464/0*e-SMFTzO8r7skkpc\" width=650px/>"
      ],
      "metadata": {
        "id": "q6wfvhccKxWx"
      }
    },
    {
      "cell_type": "code",
      "execution_count": 4,
      "metadata": {
        "id": "yZD5S7IQgHbU"
      },
      "outputs": [],
      "source": [
        "import cv2\n",
        "import numpy as np\n",
        "import matplotlib.pyplot as plt"
      ]
    },
    {
      "cell_type": "code",
      "source": [
        "# Importing some pytorch packages\n",
        "import torch\n",
        "from torch.nn import Conv2d"
      ],
      "metadata": {
        "id": "BDE4WBHalreb"
      },
      "execution_count": 5,
      "outputs": []
    },
    {
      "cell_type": "markdown",
      "source": [
        "Central to CNNs, a convolution operation is a linear element-wise multiplication operation between a small filter/kernel and same-sized patch from the image. We move this filter over the image like a sliding window from top left to bottom right. For each point on the image, a value is calculated based on the filter using a convolution operation. These filters can do simplest task like checking if there is a vertical line in the image or complicated task like detecting a human eye in the image.\n",
        "\n",
        "Let's look at the convolution formula:\n",
        "\n",
        "Convolution between image\n",
        "$f(x, y)$ and kernel $k(x, y)$ is\n",
        "$$f(x,y) * k(x,y) = \\sum \\limits _{i=0} ^{W-1} \\sum \\limits _{j=0} ^{H-1} f(i, j) k(x − i, y − j)$$\n",
        "\n",
        "where $W$ and $H$ are the the width and height of the image.\n",
        "\n",
        "The code demonstrates the convolution operation of a 2D matrix (image) with various filters"
      ],
      "metadata": {
        "id": "hbpRXyTpVv7u"
      }
    },
    {
      "cell_type": "markdown",
      "source": [
        "<img src=\"https://www.researchgate.net/profile/Chaim-Baskin/publication/318849314/figure/fig1/AS:614287726870532@1523469015098/Image-convolution-with-an-input-image-of-size-7-7-and-a-filter-kernel-of-size-3-3.png\" alt=\"Convolution\" width=650px height=280px/>"
      ],
      "metadata": {
        "id": "amI6DTS0Ksvo"
      }
    },
    {
      "cell_type": "code",
      "source": [
        "# 2D 3x3 binary image with vertical edge\n",
        "image1 = np.array([[1,1,0], [1,1,0], [1,1,0]])\n",
        "\n",
        "# 2D 3x3 binary image with horizontal edge\n",
        "image2 = np.array([[0,0,0], [0,0,0], [1,1,1]])\n",
        "\n",
        "# On plotting the images\n",
        "plt.imshow(image1, cmap='gray', extent=[0, 3, 3, 0])\n",
        "plt.show()\n",
        "plt.imshow(image2, cmap='gray', extent=[0, 3, 3, 0])\n",
        "plt.show()"
      ],
      "metadata": {
        "colab": {
          "base_uri": "https://localhost:8080/",
          "height": 853
        },
        "id": "IalqupPPkDil",
        "outputId": "64132671-74e7-4f0b-fcad-880310a38e44"
      },
      "execution_count": 6,
      "outputs": [
        {
          "output_type": "display_data",
          "data": {
            "text/plain": [
              "<Figure size 640x480 with 1 Axes>"
            ],
            "image/png": "[encoded data removed]"
          },
          "metadata": {}
        },
        {
          "output_type": "display_data",
          "data": {
            "text/plain": [
              "<Figure size 640x480 with 1 Axes>"
            ],
            "image/png": "[encoded data removed]"
          },
          "metadata": {}
        }
      ]
    },
    {
      "cell_type": "code",
      "source": [
        "# Vertical Line filter\n",
        "filter = np.array([[1,0,-1],\n",
        "                   [1,0,-1],\n",
        "                   [1,0,-1]])\n",
        "\n",
        "# Applying filter to first image\n",
        "output = np.sum(np.multiply(image1, filter))\n",
        "print('Output from first image: ', output)\n",
        "\n",
        "# Applying filter to second image\n",
        "output = np.sum(np.multiply(image2, filter))\n",
        "print('Output from second image: ', output)"
      ],
      "metadata": {
        "colab": {
          "base_uri": "https://localhost:8080/"
        },
        "id": "g42INjCaketK",
        "outputId": "adc5274f-2de7-40c6-eb1b-c463131e9d44"
      },
      "execution_count": 7,
      "outputs": [
        {
          "output_type": "stream",
          "name": "stdout",
          "text": [
            "Output from first image:  3\n",
            "Output from second image:  0\n"
          ]
        }
      ]
    },
    {
      "cell_type": "code",
      "source": [
        "# Horizontal edge filter\n",
        "filter = np.array([[-1,-1,-1],\n",
        "                   [ 0, 0, 0],\n",
        "                   [ 1, 1, 1]])\n",
        "\n",
        "output = np.sum(np.multiply(image1, filter))\n",
        "print('Output from first image: ', output)\n",
        "\n",
        "output = np.sum(np.multiply(image2, filter))\n",
        "print('Output from second image: ', output)"
      ],
      "metadata": {
        "colab": {
          "base_uri": "https://localhost:8080/"
        },
        "id": "Tba3ySYUk2df",
        "outputId": "19667b69-1a2a-400d-9a48-2da5c491c8ee"
      },
      "execution_count": 8,
      "outputs": [
        {
          "output_type": "stream",
          "name": "stdout",
          "text": [
            "Output from first image:  0\n",
            "Output from second image:  3\n"
          ]
        }
      ]
    },
    {
      "cell_type": "markdown",
      "source": [
        "Non-zero output suggests that there is a vertical edge present in the first image and not present in the second image. Similarly, horizontal edge is detected in second."
      ],
      "metadata": {
        "id": "BmYcPhDgk_in"
      }
    },
    {
      "cell_type": "markdown",
      "source": [
        "Let's define a function to use convolution layer from Pytorch and use our own kernel to detect edges in image"
      ],
      "metadata": {
        "id": "UNdrDtAKqyj2"
      }
    },
    {
      "cell_type": "code",
      "source": [
        "def apply_conv(image, kernel, padding=0, stride=1):\n",
        "\n",
        "  #--------IMAGE PREPROCESSING-------\n",
        "  image = torch.from_numpy(image)\n",
        "  # Pytorch requires input to convolution in (N,C,H,W), where N = batch size and C=#channels in input\n",
        "  input = image.view((1,1,image.shape[0], image.shape[1]))\n",
        "\n",
        "  # --------------KERNEL-------------\n",
        "  kernel = torch.from_numpy(kernel.astype(np.float32))\n",
        "\n",
        "  # Pytorch requires kernel of shape (N,C,H,W), where N = batch size and C=#channels in input\n",
        "  kernel = kernel.view((1,1,kernel.shape[0], kernel.shape[1]))\n",
        "\n",
        "  # ---------CONVOLUTION LAYER from Pytorch--------\n",
        "  conv = Conv2d(in_channels=1, out_channels=1, kernel_size=kernel.shape, padding=padding, stride=stride)\n",
        "\n",
        "  # Set the kernel weights in the convolution layer\n",
        "  conv.weight = torch.nn.Parameter(kernel)\n",
        "\n",
        "  # ---------APPLY CONVOLUTION--------\n",
        "  output = conv(input.float())\n",
        "  output_img = output.data.numpy()  # Tensor to back in numpy\n",
        "  output_img = output_img.reshape((-1, output_img.shape[-1])) # Reshape to 2D image\n",
        "\n",
        "  return output_img"
      ],
      "metadata": {
        "id": "G5fRJziBk3YB"
      },
      "execution_count": 9,
      "outputs": []
    },
    {
      "cell_type": "code",
      "source": [
        "import cv2\n",
        "import numpy as np\n",
        "import torch\n",
        "\n",
        "def apply_conv(image, kernel, padding=0, stride=1):\n",
        "    image = torch.from_numpy(image)\n",
        "    input = image.view((1, 1, image.shape[0], image.shape[1]))\n",
        "    kernel = torch.from_numpy(kernel)\n",
        "    kernel = kernel.view((1, 1, kernel.shape[0], kernel.shape[1]))\n",
        "    conv = torch.nn.functional.conv2d(input.float(), kernel.float(), padding=padding, stride=stride)\n",
        "    return conv.squeeze().numpy()\n",
        "\n",
        "image = cv2.imread('/content/grid1 (1).jpg', 0)\n",
        "\n",
        "if image is None:\n",
        "    print(\"Error: Unable to load image.\")\n",
        "else:\n",
        "    filter1 = np.array([[-1, -1, -1],\n",
        "                        [ 0,  0,  0],\n",
        "                        [ 1,  1,  1]])\n",
        "\n",
        "    filter2 = np.array([[ 1,  0, -1],\n",
        "                        [ 1,  0, -1],\n",
        "                        [ 1,  0, -1]])\n",
        "\n",
        "    out1 = apply_conv(image, filter1, padding=0, stride=1)\n",
        "    out2 = apply_conv(image, filter2, padding=0, stride=1)\n"
      ],
      "metadata": {
        "id": "1HPV6fFZloyc",
        "outputId": "793c3975-f8bd-408c-b0be-9c8145fd148e",
        "colab": {
          "base_uri": "https://localhost:8080/"
        }
      },
      "execution_count": 11,
      "outputs": [
        {
          "output_type": "stream",
          "name": "stdout",
          "text": [
            "Error: Unable to load image.\n"
          ]
        }
      ]
    },
    {
      "cell_type": "code",
      "source": [
        "import cv2\n",
        "import numpy as np\n",
        "import torch\n",
        "import matplotlib.pyplot as plt\n",
        "\n",
        "def apply_conv(image, kernel, padding=0, stride=1):\n",
        "    image = torch.from_numpy(image)\n",
        "    input = image.view((1, 1, image.shape[0], image.shape[1]))\n",
        "    kernel = torch.from_numpy(kernel)\n",
        "    kernel = kernel.view((1, 1, kernel.shape[0], kernel.shape[1]))\n",
        "    conv = torch.nn.functional.conv2d(input.float(), kernel.float(), padding=padding, stride=stride)\n",
        "    return conv.squeeze().numpy()\n",
        "\n",
        "image = cv2.imread('/content/grid1 (1).jpg', 0)\n",
        "\n",
        "if image is None:\n",
        "    print(\"Error: Unable to load image.\")\n",
        "else:\n",
        "    filter1 = np.array([[-1, -1, -1],\n",
        "                        [ 0,  0,  0],\n",
        "                        [ 1,  1,  1]])\n",
        "\n",
        "    filter2 = np.array([[ 1,  0, -1],\n",
        "                        [ 1,  0, -1],\n",
        "                        [ 1,  0, -1]])\n",
        "\n",
        "    out1 = apply_conv(image, filter1, padding=0, stride=1)\n",
        "    out2 = apply_conv(image, filter2, padding=0, stride=1)\n",
        "\n",
        "    fig = plt.figure(figsize=(10,6))\n",
        "    ax = fig.add_subplot(1,3,1)\n",
        "    ax.imshow(image, cmap='gray')\n",
        "    ax.set_title('Original Image')\n",
        "    ax = fig.add_subplot(1,3,2)\n",
        "    ax.imshow(out1, cmap='gray')\n",
        "    ax.set_title('Horizontal edge')\n",
        "    ax = fig.add_subplot(1,3,3)\n",
        "    ax.imshow(out2, cmap='gray')\n",
        "    ax.set_title('Vertical edge')\n",
        "    plt.show()\n"
      ],
      "metadata": {
        "id": "xgwXwbUKnmEr",
        "colab": {
          "base_uri": "https://localhost:8080/"
        },
        "outputId": "6cc23c2f-a354-4fdc-f459-8e12acc58fa7"
      },
      "execution_count": 13,
      "outputs": [
        {
          "output_type": "stream",
          "name": "stdout",
          "text": [
            "Error: Unable to load image.\n"
          ]
        }
      ]
    },
    {
      "cell_type": "markdown",
      "source": [
        "## Pooling Layers\n",
        "\n",
        "Pooling layers are used to reduce the dimensions of the feature maps. Thus, it reduces the number of parameters to learn and the amount of computation performed in the network. The pooling layer summarises the features present in a region of the feature map generated by a convolution layer.\n",
        "\n",
        "1) Max Pooling:\n",
        "\n",
        "<img src='https://media.geeksforgeeks.org/wp-content/uploads/20190721025744/Screenshot-2019-07-21-at-2.57.13-AM.png' height=150px/>\n",
        "\n",
        "2) Average Pooling:\n",
        "\n",
        "<img src='https://media.geeksforgeeks.org/wp-content/uploads/20190721030705/Screenshot-2019-07-21-at-3.05.56-AM.png' height=150px/>"
      ],
      "metadata": {
        "id": "FpA0yEk1BgRb"
      }
    },
    {
      "cell_type": "markdown",
      "source": [
        "## Softmax layer/activation\n",
        "Recall that logistic regression produces a decimal between 0 and 1.0. For example, a logistic regression output of 0.8 from an email classifier suggests an 80% chance of an email being spam and a 20% chance of it being not spam. Clearly, the sum of the probabilities of an email being either spam or not spam is 1.0.\n",
        "\n",
        "Softmax extends this idea into a multi-class world. That is, Softmax assigns decimal probabilities to each class in a multi-class problem. Those decimal probabilities must add up to 1.0. This additional constraint helps training converge more quickly than it otherwise would.\n",
        "Softmax is implemented through a neural network layer just before the output layer. The Softmax layer must have the same number of nodes as the output layer.\n",
        "\n",
        "<img src='https://miro.medium.com/max/1400/1*ReYpdIZ3ZSAPb2W8cJpkBg.jpeg' height=170px />"
      ],
      "metadata": {
        "id": "eu3QIU7AEO_x"
      }
    },
    {
      "cell_type": "markdown",
      "source": [
        "## Learning to train a CNN network"
      ],
      "metadata": {
        "id": "P6grxC0TKKSF"
      }
    },
    {
      "cell_type": "code",
      "source": [
        "# Import packages\n",
        "import torch\n",
        "import torchvision\n",
        "import torchvision.transforms as transforms\n",
        "import torch.nn as nn\n",
        "import torch.nn.functional as F\n",
        "import torch.optim as optim\n",
        "import matplotlib.pyplot as plt\n",
        "import numpy as np"
      ],
      "metadata": {
        "id": "qlO-uZUHnn_-"
      },
      "execution_count": 14,
      "outputs": []
    },
    {
      "cell_type": "code",
      "source": [
        "#  Images returned from torchvision dataset classes is in range [0,1]\n",
        "# We transform them to tensors and normalize them to range [-1,1] using 'Normalize' transform\n",
        "\n",
        "transform = transforms.Compose(\n",
        "    [transforms.ToTensor(),\n",
        "     transforms.Normalize((0.5, 0.5, 0.5), (0.5, 0.5, 0.5))])\n",
        "\n",
        "batch_size = 128\n",
        "\n",
        "trainset = torchvision.datasets.CIFAR10(root='./data', train=True,\n",
        "                                        download=True, transform=transform)\n",
        "trainloader = torch.utils.data.DataLoader(trainset, batch_size=batch_size,\n",
        "                                          shuffle=True, num_workers=2)\n",
        "\n",
        "testset = torchvision.datasets.CIFAR10(root='./data', train=False,\n",
        "                                       download=True, transform=transform)\n",
        "testloader = torch.utils.data.DataLoader(testset, batch_size=batch_size,\n",
        "                                         shuffle=False, num_workers=2)\n",
        "\n",
        "# Classes in CIFAR10\n",
        "classes = ('plane', 'car', 'bird', 'cat',\n",
        "           'deer', 'dog', 'frog', 'horse', 'ship', 'truck')"
      ],
      "metadata": {
        "id": "NnezCUbwGqzd",
        "colab": {
          "base_uri": "https://localhost:8080/"
        },
        "outputId": "f89df4c4-4fa4-4932-f808-ef5b708a486e"
      },
      "execution_count": 15,
      "outputs": [
        {
          "output_type": "stream",
          "name": "stdout",
          "text": [
            "Downloading https://www.cs.toronto.edu/~kriz/cifar-10-python.tar.gz to ./data/cifar-10-python.tar.gz\n"
          ]
        },
        {
          "output_type": "stream",
          "name": "stderr",
          "text": [
            "100%|██████████| 170498071/170498071 [00:03<00:00, 44044932.11it/s]\n"
          ]
        },
        {
          "output_type": "stream",
          "name": "stdout",
          "text": [
            "Extracting ./data/cifar-10-python.tar.gz to ./data\n",
            "Files already downloaded and verified\n"
          ]
        }
      ]
    },
    {
      "cell_type": "code",
      "source": [
        "print('Training data shape : ', trainset.data.shape, len(trainset.targets))\n",
        "print('Testing data shape : ', testset.data.shape, len(testset.targets))\n",
        "\n",
        "# Find the unique numbers from the train labels\n",
        "nClasses = len(classes)\n",
        "print('Total number of outputs : ', nClasses)\n",
        "print('Output classes : ', classes)"
      ],
      "metadata": {
        "id": "e2M57DhHGupn",
        "colab": {
          "base_uri": "https://localhost:8080/"
        },
        "outputId": "ab9867d6-06b5-4289-f584-28cba6e9d88e"
      },
      "execution_count": 16,
      "outputs": [
        {
          "output_type": "stream",
          "name": "stdout",
          "text": [
            "Training data shape :  (50000, 32, 32, 3) 50000\n",
            "Testing data shape :  (10000, 32, 32, 3) 10000\n",
            "Total number of outputs :  10\n",
            "Output classes :  ('plane', 'car', 'bird', 'cat', 'deer', 'dog', 'frog', 'horse', 'ship', 'truck')\n"
          ]
        }
      ]
    },
    {
      "cell_type": "code",
      "source": [
        "def train(num_epochs, model, train_loader, loss_func, optimizer):\n",
        "\n",
        "  # Training mode\n",
        "  model.train()\n",
        "\n",
        "  train_losses = []\n",
        "  train_acc = []\n",
        "\n",
        "  # Train the model\n",
        "  for epoch in range(num_epochs):\n",
        "    running_loss = 0\n",
        "    running_acc = 0\n",
        "    for i, (images, labels) in enumerate(train_loader):\n",
        "\n",
        "      # clear gradients for this training step\n",
        "      optimizer.zero_grad()\n",
        "\n",
        "      # Forward pass\n",
        "      output = model(images)\n",
        "\n",
        "      # Calculate loss\n",
        "      loss = loss_func(output, labels)\n",
        "\n",
        "      # Backpropagation, compute gradients\n",
        "      loss.backward()\n",
        "\n",
        "      # Apply gradients\n",
        "      optimizer.step()\n",
        "\n",
        "      # Running loss\n",
        "      running_loss += loss.item()\n",
        "\n",
        "      # indices of max probabilities\n",
        "      _, preds = torch.max(output, dim=1)\n",
        "\n",
        "      # Calculate number of correct predictions\n",
        "      correct = (preds.float() == labels).sum()\n",
        "      running_acc += correct\n",
        "\n",
        "      # Average loss and acc values\n",
        "      epoch_loss = running_loss / len(train_loader.dataset)\n",
        "      epoch_acc = running_acc / len(train_loader.dataset)\n",
        "\n",
        "    train_losses.append(epoch_loss)\n",
        "    train_acc.append(epoch_acc)\n",
        "    print ('Epoch {}/{}, Loss: {:.4f}, Accuracy: {:.4f}'.format(epoch + 1, num_epochs, epoch_loss, epoch_acc*100))\n",
        "\n",
        "  return train_losses, train_acc"
      ],
      "metadata": {
        "id": "_haw697lHCZs"
      },
      "execution_count": 17,
      "outputs": []
    },
    {
      "cell_type": "code",
      "source": [
        "def test_model(model, testloader):\n",
        "  correct = 0\n",
        "  total = 0\n",
        "  # Deactivate autograd engine (don't compute grads since we're not training)\n",
        "  with torch.no_grad():\n",
        "    for data in testloader:\n",
        "        images, labels = data\n",
        "        # Calculate outputs by running images through the network\n",
        "        outputs = model(images)\n",
        "        # The class with the highest value is what we choose as prediction\n",
        "        _, predicted = torch.max(outputs.data, 1)\n",
        "        total += labels.size(0)\n",
        "        correct += (predicted == labels).sum().item()\n",
        "\n",
        "  print('Accuracy of the network: %d %%' % (\n",
        "      100 * correct / total))"
      ],
      "metadata": {
        "id": "x1Wi6vW7IHcR"
      },
      "execution_count": 18,
      "outputs": []
    },
    {
      "cell_type": "code",
      "source": [
        "# CNN with 2 CONV layers and 3 FC layers\n",
        "class Net(nn.Module):\n",
        "    def __init__(self):\n",
        "        super().__init__()\n",
        "        self.conv1 = nn.Conv2d(3, 16, 3)\n",
        "        self.pool = nn.MaxPool2d(2, 2)\n",
        "        self.conv2 = nn.Conv2d(16, 32, 5)\n",
        "        self.fc1 = nn.Linear(32 * 5 * 5, 512)\n",
        "        self.fc2 = nn.Linear(512, 128)\n",
        "        # output layer 10 classes\n",
        "        self.fc3 = nn.Linear(128, 10)\n",
        "\n",
        "    def forward(self, x):\n",
        "        x = self.pool(F.relu(self.conv1(x)))\n",
        "        x = self.pool(F.relu(self.conv2(x)))\n",
        "        # flatten all dimensions except batch\n",
        "        x = torch.flatten(x, 1)\n",
        "        x = F.relu(self.fc1(x))\n",
        "        x = F.relu(self.fc2(x))\n",
        "        x = self.fc3(x)\n",
        "        return x"
      ],
      "metadata": {
        "id": "RgxbRadcHIms"
      },
      "execution_count": 19,
      "outputs": []
    },
    {
      "cell_type": "code",
      "source": [
        "model = Net()\n",
        "print(model)"
      ],
      "metadata": {
        "id": "02meBxVOHLNL",
        "colab": {
          "base_uri": "https://localhost:8080/"
        },
        "outputId": "6e3fb73c-7732-42b4-a515-41a8e7739bb4"
      },
      "execution_count": 20,
      "outputs": [
        {
          "output_type": "stream",
          "name": "stdout",
          "text": [
            "Net(\n",
            "  (conv1): Conv2d(3, 16, kernel_size=(3, 3), stride=(1, 1))\n",
            "  (pool): MaxPool2d(kernel_size=2, stride=2, padding=0, dilation=1, ceil_mode=False)\n",
            "  (conv2): Conv2d(16, 32, kernel_size=(5, 5), stride=(1, 1))\n",
            "  (fc1): Linear(in_features=800, out_features=512, bias=True)\n",
            "  (fc2): Linear(in_features=512, out_features=128, bias=True)\n",
            "  (fc3): Linear(in_features=128, out_features=10, bias=True)\n",
            ")\n"
          ]
        }
      ]
    },
    {
      "cell_type": "code",
      "source": [
        "# Cross Entropy loss for multi-class classification\n",
        "criterion = nn.CrossEntropyLoss()"
      ],
      "metadata": {
        "id": "lfKHypeYHNHO"
      },
      "execution_count": 21,
      "outputs": []
    },
    {
      "cell_type": "code",
      "source": [
        "# SGD optimizer with momentum\n",
        "optimizer = optim.SGD(model.parameters(), lr=0.05, momentum=0.9)"
      ],
      "metadata": {
        "id": "MuDnJL28HPKP"
      },
      "execution_count": 22,
      "outputs": []
    },
    {
      "cell_type": "code",
      "source": [
        "num_epochs = 5  # iterations\n",
        "train_losses, train_acc = train(num_epochs, model, trainloader, criterion, optimizer)"
      ],
      "metadata": {
        "id": "AgKhwMrtHRCn",
        "colab": {
          "base_uri": "https://localhost:8080/"
        },
        "outputId": "11886c75-097a-45e0-95f1-3a84a7d85c78"
      },
      "execution_count": 23,
      "outputs": [
        {
          "output_type": "stream",
          "name": "stderr",
          "text": [
            "/usr/lib/python3.10/multiprocessing/popen_fork.py:66: RuntimeWarning: os.fork() was called. os.fork() is incompatible with multithreaded code, and JAX is multithreaded, so this will likely lead to a deadlock.\n",
            "  self.pid = os.fork()\n",
            "/usr/lib/python3.10/multiprocessing/popen_fork.py:66: RuntimeWarning: os.fork() was called. os.fork() is incompatible with multithreaded code, and JAX is multithreaded, so this will likely lead to a deadlock.\n",
            "  self.pid = os.fork()\n"
          ]
        },
        {
          "output_type": "stream",
          "name": "stdout",
          "text": [
            "Epoch 1/5, Loss: 0.0130, Accuracy: 38.9660\n",
            "Epoch 2/5, Loss: 0.0094, Accuracy: 57.1340\n",
            "Epoch 3/5, Loss: 0.0079, Accuracy: 64.2260\n",
            "Epoch 4/5, Loss: 0.0069, Accuracy: 69.0940\n",
            "Epoch 5/5, Loss: 0.0060, Accuracy: 73.0060\n"
          ]
        }
      ]
    },
    {
      "cell_type": "code",
      "source": [
        "fig = plt.figure(figsize=(10,4))\n",
        "ax = fig.add_subplot(1,2, 1)\n",
        "ax.plot(np.arange(1,len(train_losses)+1),train_losses)\n",
        "plt.xlabel('Training loss')\n",
        "plt.ylabel('Epochs')\n",
        "ax.set_title('Loss vs Epochs')\n",
        "ax = fig.add_subplot(1,2, 2)\n",
        "ax.plot(np.arange(1,len(train_acc)+1),train_acc)\n",
        "plt.xlabel('Training accuracy')\n",
        "plt.ylabel('Epochs')\n",
        "ax.set_title('Accuracy vs Epochs')\n",
        "plt.show()"
      ],
      "metadata": {
        "id": "tM2wHKGuHToB",
        "colab": {
          "base_uri": "https://localhost:8080/",
          "height": 410
        },
        "outputId": "f5ba29cd-1b6b-4c4d-c280-cb4738914c84"
      },
      "execution_count": 24,
      "outputs": [
        {
          "output_type": "display_data",
          "data": {
            "text/plain": [
              "<Figure size 1000x400 with 2 Axes>"
            ],
            "image/png": "[encoded data removed]"
          },
          "metadata": {}
        }
      ]
    },
    {
      "cell_type": "code",
      "source": [
        "# Accuracy on test data after training\n",
        "test_model(model, testloader)"
      ],
      "metadata": {
        "id": "3sHK9hhmI-VY",
        "colab": {
          "base_uri": "https://localhost:8080/"
        },
        "outputId": "d702a262-a305-41cb-db75-08e19c652ee4"
      },
      "execution_count": 25,
      "outputs": [
        {
          "output_type": "stream",
          "name": "stdout",
          "text": [
            "Accuracy of the network: 65 %\n"
          ]
        }
      ]
    },
    {
      "cell_type": "markdown",
      "source": [
        "## Questions\n",
        "1) List some reasons why we should prefer CNN over ANN for image classification?\n",
        "\n",
        "2) Try improving the CNN performance further by tuning the hyperparameters(epochs, optimizer, LR etc). Report the improved test accuracy.\n",
        "\n",
        "3) What happens if you reduce the number of convolution layers to only 1?\n",
        "\n",
        "4) Why didn't we use the Softmax activation in the last layer of CNN?\n"
      ],
      "metadata": {
        "id": "RBQeCEB6REnH"
      }
    },
    {
      "cell_type": "code",
      "source": [
        "import tensorflow as tf\n",
        "\n",
        "(train_images, train_labels), (test_images, test_labels) = tf.keras.datasets.cifar10.load_data()\n",
        "\n",
        "train_images, test_images = train_images / 255.0, test_images / 255.0\n",
        "\n",
        "model = tf.keras.models.Sequential([\n",
        "    tf.keras.layers.Conv2D(32, (3, 3), activation='relu', input_shape=(32, 32, 3)),\n",
        "    tf.keras.layers.MaxPooling2D((2, 2)),\n",
        "    tf.keras.layers.Conv2D(64, (3, 3), activation='relu'),\n",
        "    tf.keras.layers.MaxPooling2D((2, 2)),\n",
        "    tf.keras.layers.Conv2D(64, (3, 3), activation='relu'),\n",
        "    tf.keras.layers.Flatten(),\n",
        "    tf.keras.layers.Dense(64, activation='relu'),\n",
        "    tf.keras.layers.Dense(10, activation='softmax')\n",
        "])\n",
        "\n",
        "model.compile(optimizer='adam',\n",
        "              loss='sparse_categorical_crossentropy',\n",
        "              metrics=['accuracy'])\n",
        "\n",
        "history = model.fit(train_images, train_labels, epochs=10,\n",
        "                    validation_data=(test_images, test_labels))\n"
      ],
      "metadata": {
        "id": "p59xi_uVvZo8",
        "outputId": "56f913a7-8a33-465c-f2c3-d2cb99d489f5",
        "colab": {
          "base_uri": "https://localhost:8080/"
        }
      },
      "execution_count": 30,
      "outputs": [
        {
          "output_type": "stream",
          "name": "stdout",
          "text": [
            "Epoch 1/10\n",
            "1563/1563 [==============================] - 69s 43ms/step - loss: 1.5338 - accuracy: 0.4409 - val_loss: 1.2719 - val_accuracy: 0.5388\n",
            "Epoch 2/10\n",
            "1563/1563 [==============================] - 70s 45ms/step - loss: 1.1656 - accuracy: 0.5852 - val_loss: 1.0948 - val_accuracy: 0.6115\n",
            "Epoch 3/10\n",
            "1563/1563 [==============================] - 68s 44ms/step - loss: 1.0227 - accuracy: 0.6412 - val_loss: 1.0169 - val_accuracy: 0.6475\n",
            "Epoch 4/10\n",
            "1563/1563 [==============================] - 69s 44ms/step - loss: 0.9369 - accuracy: 0.6704 - val_loss: 0.9508 - val_accuracy: 0.6669\n",
            "Epoch 5/10\n",
            "1563/1563 [==============================] - 69s 44ms/step - loss: 0.8698 - accuracy: 0.6947 - val_loss: 0.9400 - val_accuracy: 0.6735\n",
            "Epoch 6/10\n",
            "1563/1563 [==============================] - 69s 44ms/step - loss: 0.8139 - accuracy: 0.7143 - val_loss: 0.8752 - val_accuracy: 0.6951\n",
            "Epoch 7/10\n",
            "1563/1563 [==============================] - 70s 45ms/step - loss: 0.7689 - accuracy: 0.7319 - val_loss: 0.9049 - val_accuracy: 0.6937\n",
            "Epoch 8/10\n",
            "1563/1563 [==============================] - 67s 43ms/step - loss: 0.7268 - accuracy: 0.7455 - val_loss: 0.8751 - val_accuracy: 0.7048\n",
            "Epoch 9/10\n",
            "1563/1563 [==============================] - 67s 43ms/step - loss: 0.6901 - accuracy: 0.7573 - val_loss: 0.9145 - val_accuracy: 0.6960\n",
            "Epoch 10/10\n",
            "1563/1563 [==============================] - 69s 44ms/step - loss: 0.6549 - accuracy: 0.7707 - val_loss: 0.8707 - val_accuracy: 0.7075\n"
          ]
        }
      ]
    },
    {
      "cell_type": "code",
      "source": [
        "import tensorflow as tf\n",
        "\n",
        "# Load CIFAR-10 dataset\n",
        "(train_images, train_labels), (test_images, test_labels) = tf.keras.datasets.cifar10.load_data()\n",
        "\n",
        "# Normalize pixel values\n",
        "train_images, test_images = train_images / 255.0, test_images / 255.0\n",
        "\n",
        "# Define CNN model\n",
        "model = tf.keras.models.Sequential([\n",
        "    tf.keras.layers.Conv2D(32, (3, 3), activation='relu', input_shape=(32, 32, 3)),\n",
        "    tf.keras.layers.MaxPooling2D((2, 2)),\n",
        "    tf.keras.layers.Conv2D(64, (3, 3), activation='relu'),\n",
        "    tf.keras.layers.MaxPooling2D((2, 2)),\n",
        "    tf.keras.layers.Conv2D(64, (3, 3), activation='relu'),\n",
        "    tf.keras.layers.Flatten(),\n",
        "    tf.keras.layers.Dense(64, activation='relu'),\n",
        "    tf.keras.layers.Dense(10, activation='softmax')\n",
        "])\n",
        "\n",
        "# Compile the model with chosen hyperparameters\n",
        "model.compile(optimizer='adam',\n",
        "              loss='sparse_categorical_crossentropy',\n",
        "              metrics=['accuracy'])\n",
        "\n",
        "# Define hyperparameters\n",
        "epochs = 20  # Number of epochs to train\n",
        "batch_size = 64  # Batch size for training\n",
        "learning_rate = 0.001  # Learning rate for the optimizer\n",
        "\n",
        "# Train the model\n",
        "history = model.fit(train_images, train_labels, epochs=epochs, batch_size=batch_size,\n",
        "                    validation_data=(test_images, test_labels))\n",
        "\n",
        "# Evaluate the model on test data\n",
        "test_loss, test_accuracy = model.evaluate(test_images, test_labels)\n",
        "\n",
        "print(\"Improved Test Accuracy:\", test_accuracy)\n"
      ],
      "metadata": {
        "id": "tdCp6JuIvbRz",
        "outputId": "53ceed0a-767e-46a7-f1cb-16d91bec0b5f",
        "colab": {
          "base_uri": "https://localhost:8080/"
        }
      },
      "execution_count": 31,
      "outputs": [
        {
          "output_type": "stream",
          "name": "stdout",
          "text": [
            "Epoch 1/20\n",
            "782/782 [==============================] - 65s 82ms/step - loss: 1.5576 - accuracy: 0.4306 - val_loss: 1.3381 - val_accuracy: 0.5212\n",
            "Epoch 2/20\n",
            "782/782 [==============================] - 65s 83ms/step - loss: 1.2064 - accuracy: 0.5726 - val_loss: 1.1505 - val_accuracy: 0.5836\n",
            "Epoch 3/20\n",
            "782/782 [==============================] - 73s 93ms/step - loss: 1.0506 - accuracy: 0.6309 - val_loss: 1.0498 - val_accuracy: 0.6346\n",
            "Epoch 4/20\n",
            "782/782 [==============================] - 65s 84ms/step - loss: 0.9576 - accuracy: 0.6635 - val_loss: 1.0135 - val_accuracy: 0.6473\n",
            "Epoch 5/20\n",
            "782/782 [==============================] - 67s 86ms/step - loss: 0.8776 - accuracy: 0.6929 - val_loss: 0.9139 - val_accuracy: 0.6849\n",
            "Epoch 6/20\n",
            "782/782 [==============================] - 64s 82ms/step - loss: 0.8204 - accuracy: 0.7110 - val_loss: 0.9139 - val_accuracy: 0.6841\n",
            "Epoch 7/20\n",
            "782/782 [==============================] - 64s 82ms/step - loss: 0.7727 - accuracy: 0.7290 - val_loss: 0.8834 - val_accuracy: 0.7015\n",
            "Epoch 8/20\n",
            "782/782 [==============================] - 64s 82ms/step - loss: 0.7308 - accuracy: 0.7432 - val_loss: 0.8459 - val_accuracy: 0.7089\n",
            "Epoch 9/20\n",
            "782/782 [==============================] - 62s 80ms/step - loss: 0.6857 - accuracy: 0.7595 - val_loss: 0.8872 - val_accuracy: 0.7010\n",
            "Epoch 10/20\n",
            "782/782 [==============================] - 62s 79ms/step - loss: 0.6553 - accuracy: 0.7710 - val_loss: 0.8371 - val_accuracy: 0.7225\n",
            "Epoch 11/20\n",
            "782/782 [==============================] - 63s 81ms/step - loss: 0.6247 - accuracy: 0.7793 - val_loss: 0.8563 - val_accuracy: 0.7158\n",
            "Epoch 12/20\n",
            "782/782 [==============================] - 65s 84ms/step - loss: 0.5897 - accuracy: 0.7937 - val_loss: 0.8659 - val_accuracy: 0.7079\n",
            "Epoch 13/20\n",
            "782/782 [==============================] - 65s 83ms/step - loss: 0.5614 - accuracy: 0.8021 - val_loss: 0.9114 - val_accuracy: 0.7113\n",
            "Epoch 14/20\n",
            "782/782 [==============================] - 63s 80ms/step - loss: 0.5313 - accuracy: 0.8131 - val_loss: 0.8748 - val_accuracy: 0.7186\n",
            "Epoch 15/20\n",
            "782/782 [==============================] - 65s 83ms/step - loss: 0.5077 - accuracy: 0.8214 - val_loss: 0.8953 - val_accuracy: 0.7237\n",
            "Epoch 16/20\n",
            "782/782 [==============================] - 66s 84ms/step - loss: 0.4797 - accuracy: 0.8305 - val_loss: 0.9028 - val_accuracy: 0.7156\n",
            "Epoch 17/20\n",
            "782/782 [==============================] - 66s 84ms/step - loss: 0.4541 - accuracy: 0.8385 - val_loss: 0.9524 - val_accuracy: 0.7130\n",
            "Epoch 18/20\n",
            "782/782 [==============================] - 65s 83ms/step - loss: 0.4352 - accuracy: 0.8439 - val_loss: 0.9751 - val_accuracy: 0.7140\n",
            "Epoch 19/20\n",
            "782/782 [==============================] - 63s 80ms/step - loss: 0.4067 - accuracy: 0.8553 - val_loss: 1.0314 - val_accuracy: 0.7114\n",
            "Epoch 20/20\n",
            "782/782 [==============================] - 65s 83ms/step - loss: 0.3863 - accuracy: 0.8622 - val_loss: 1.0182 - val_accuracy: 0.7153\n",
            "313/313 [==============================] - 4s 12ms/step - loss: 1.0182 - accuracy: 0.7153\n",
            "Improved Test Accuracy: 0.7153000235557556\n"
          ]
        }
      ]
    },
    {
      "cell_type": "code",
      "source": [
        "import tensorflow as tf\n",
        "\n",
        "(train_images, train_labels), (test_images, test_labels) = tf.keras.datasets.cifar10.load_data()\n",
        "\n",
        "train_images, test_images = train_images / 255.0, test_images / 255.0\n",
        "\n",
        "model = tf.keras.models.Sequential([\n",
        "    tf.keras.layers.Conv2D(32, (3, 3), activation='relu', input_shape=(32, 32, 3)),\n",
        "    tf.keras.layers.MaxPooling2D((2, 2)),\n",
        "    tf.keras.layers.Flatten(),\n",
        "    tf.keras.layers.Dense(64, activation='relu'),\n",
        "    tf.keras.layers.Dense(10, activation='softmax')\n",
        "])\n",
        "\n",
        "model.compile(optimizer='adam',\n",
        "              loss='sparse_categorical_crossentropy',\n",
        "              metrics=['accuracy'])\n",
        "\n",
        "history = model.fit(train_images, train_labels, epochs=20, batch_size=64,\n",
        "                    validation_data=(test_images, test_labels))\n",
        "\n",
        "test_loss, test_accuracy = model.evaluate(test_images, test_labels)\n",
        "\n",
        "print(\"Test Accuracy with 1 Convolutional Layer:\", test_accuracy)\n"
      ],
      "metadata": {
        "id": "2p7SgCwQ3t3F",
        "outputId": "7243d42b-11e7-4125-96de-fdd103262237",
        "colab": {
          "base_uri": "https://localhost:8080/"
        }
      },
      "execution_count": 32,
      "outputs": [
        {
          "output_type": "stream",
          "name": "stdout",
          "text": [
            "Epoch 1/20\n",
            "782/782 [==============================] - 37s 47ms/step - loss: 1.5341 - accuracy: 0.4525 - val_loss: 1.3246 - val_accuracy: 0.5359\n",
            "Epoch 2/20\n",
            "782/782 [==============================] - 35s 44ms/step - loss: 1.2439 - accuracy: 0.5630 - val_loss: 1.2015 - val_accuracy: 0.5804\n",
            "Epoch 3/20\n",
            "782/782 [==============================] - 34s 44ms/step - loss: 1.1432 - accuracy: 0.6026 - val_loss: 1.1589 - val_accuracy: 0.5906\n",
            "Epoch 4/20\n",
            "782/782 [==============================] - 35s 45ms/step - loss: 1.0692 - accuracy: 0.6280 - val_loss: 1.1175 - val_accuracy: 0.6069\n",
            "Epoch 5/20\n",
            "782/782 [==============================] - 35s 45ms/step - loss: 1.0124 - accuracy: 0.6473 - val_loss: 1.0934 - val_accuracy: 0.6236\n",
            "Epoch 6/20\n",
            "782/782 [==============================] - 34s 43ms/step - loss: 0.9633 - accuracy: 0.6658 - val_loss: 1.0959 - val_accuracy: 0.6155\n",
            "Epoch 7/20\n",
            "782/782 [==============================] - 35s 45ms/step - loss: 0.9273 - accuracy: 0.6777 - val_loss: 1.0766 - val_accuracy: 0.6300\n",
            "Epoch 8/20\n",
            "782/782 [==============================] - 36s 46ms/step - loss: 0.8987 - accuracy: 0.6889 - val_loss: 1.0296 - val_accuracy: 0.6391\n",
            "Epoch 9/20\n",
            "782/782 [==============================] - 34s 44ms/step - loss: 0.8697 - accuracy: 0.6984 - val_loss: 1.0444 - val_accuracy: 0.6424\n",
            "Epoch 10/20\n",
            "782/782 [==============================] - 34s 44ms/step - loss: 0.8420 - accuracy: 0.7084 - val_loss: 1.0486 - val_accuracy: 0.6412\n",
            "Epoch 11/20\n",
            "782/782 [==============================] - 35s 45ms/step - loss: 0.8149 - accuracy: 0.7168 - val_loss: 1.0469 - val_accuracy: 0.6392\n",
            "Epoch 12/20\n",
            "782/782 [==============================] - 35s 45ms/step - loss: 0.7963 - accuracy: 0.7234 - val_loss: 1.1369 - val_accuracy: 0.6249\n",
            "Epoch 13/20\n",
            "782/782 [==============================] - 33s 43ms/step - loss: 0.7736 - accuracy: 0.7319 - val_loss: 1.1334 - val_accuracy: 0.6204\n",
            "Epoch 14/20\n",
            "782/782 [==============================] - 35s 45ms/step - loss: 0.7492 - accuracy: 0.7405 - val_loss: 1.0761 - val_accuracy: 0.6362\n",
            "Epoch 15/20\n",
            "782/782 [==============================] - 34s 44ms/step - loss: 0.7287 - accuracy: 0.7469 - val_loss: 1.0755 - val_accuracy: 0.6440\n",
            "Epoch 16/20\n",
            "782/782 [==============================] - 34s 43ms/step - loss: 0.7126 - accuracy: 0.7534 - val_loss: 1.1846 - val_accuracy: 0.6135\n",
            "Epoch 17/20\n",
            "782/782 [==============================] - 35s 45ms/step - loss: 0.6977 - accuracy: 0.7591 - val_loss: 1.1656 - val_accuracy: 0.6227\n",
            "Epoch 18/20\n",
            "782/782 [==============================] - 35s 45ms/step - loss: 0.6742 - accuracy: 0.7661 - val_loss: 1.1219 - val_accuracy: 0.6379\n",
            "Epoch 19/20\n",
            "782/782 [==============================] - 34s 44ms/step - loss: 0.6559 - accuracy: 0.7725 - val_loss: 1.1424 - val_accuracy: 0.6336\n",
            "Epoch 20/20\n",
            "782/782 [==============================] - 33s 43ms/step - loss: 0.6424 - accuracy: 0.7779 - val_loss: 1.1717 - val_accuracy: 0.6296\n",
            "313/313 [==============================] - 3s 8ms/step - loss: 1.1717 - accuracy: 0.6296\n",
            "Test Accuracy with 1 Convolutional Layer: 0.6295999884605408\n"
          ]
        }
      ]
    },
    {
      "cell_type": "code",
      "source": [
        "tf.keras.layers.Dense(10, activation='softmax')\n"
      ],
      "metadata": {
        "id": "BUsRaKq2_GFz",
        "outputId": "cc3aeb64-e574-4790-a8a9-3d57060ebb35",
        "colab": {
          "base_uri": "https://localhost:8080/"
        }
      },
      "execution_count": 33,
      "outputs": [
        {
          "output_type": "execute_result",
          "data": {
            "text/plain": [
              "<keras.src.layers.core.dense.Dense at 0x7e6d1d501570>"
            ]
          },
          "metadata": {},
          "execution_count": 33
        }
      ]
    }
  ]
}